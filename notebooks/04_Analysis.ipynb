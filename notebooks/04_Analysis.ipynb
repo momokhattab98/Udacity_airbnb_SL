{
 "cells": [
  {
   "cell_type": "code",
   "execution_count": null,
   "metadata": {},
   "outputs": [],
   "source": []
  }
 ],
 "metadata": {
  "kernelspec": {
   "display_name": "Python 3",
   "language": "python",
   "name": "python3"
  },
  "language_info": {
   "name": "python",
   "version": "3.9.9 (tags/v3.9.9:ccb0e6a, Nov 15 2021, 18:08:50) [MSC v.1929 64 bit (AMD64)]"
  },
  "orig_nbformat": 4,
  "vscode": {
   "interpreter": {
    "hash": "c01792ed1a3cecf8da3da452ab494ac776f7709d206f9bb28b5594c47d6cce62"
   }
  }
 },
 "nbformat": 4,
 "nbformat_minor": 2
}
